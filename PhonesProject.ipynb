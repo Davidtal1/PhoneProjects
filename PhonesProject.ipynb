{
 "cells": [
  {
   "cell_type": "code",
   "execution_count": 81,
   "metadata": {},
   "outputs": [],
   "source": [
    "import unicodedata\n",
    "import re\n",
    "from bs4 import BeautifulSoup\n",
    "import sqlite3\n",
    "import requests\n",
    "import pandas as pd\n",
    "from random import randint\n",
    "import time\n",
    "from time import sleep\n",
    "from typing import List\n",
    "import numpy as np\n",
    "import seaborn as sns\n",
    "import matplotlib.pyplot as plt\n",
    "from matplotlib import gridspec\n",
    "from sklearn.preprocessing import MinMaxScaler\n",
    "from sklearn import linear_model, metrics, preprocessing\n",
    "from sklearn.preprocessing import StandardScaler, MinMaxScaler, LabelEncoder\n",
    "from sklearn.linear_model import LogisticRegression, LinearRegression\n",
    "from sklearn.metrics import r2_score, f1_score"
   ]
  },
  {
   "cell_type": "code",
   "execution_count": 2,
   "metadata": {},
   "outputs": [],
   "source": [
    "def sleepms(milliseconds: int):\n",
    "    seconds = 0.001 * milliseconds\n",
    "    sleep(seconds)\n",
    "    \n",
    "def random_wait():\n",
    "    start = time.time()\n",
    "    sleepms(randint(1, 350))\n",
    "\n",
    "def getFakeUser():\n",
    "    return {\"User-Agent\":\"PostmanRuntime/7.29.0\"}\n",
    "\n",
    "\n",
    "def getRetHeaders():\n",
    "    url='https://www.ret.co.il/m/91935/specs'\n",
    "    page = requests.get(url, headers = getFakeUser())\n",
    "    soup= BeautifulSoup(page.content,'html.parser')\n",
    "    product=soup.find('div',class_='single-product-tab')\n",
    "    data=product.findAll('ul','list-group list-group-horizontal')\n",
    "    myheaders= ['מחיר מינימלי','מחיר מקסימלי']\n",
    "    for alldata in data:\n",
    "        myheaders.append(alldata.find('span',class_='text-dark font-weight-bold').text.strip())\n",
    "    return myheaders\n",
    "\n",
    "\n",
    "def getUrl(url):\n",
    "    page = requests.get(url, headers = getFakeUser())\n",
    "    soup= BeautifulSoup(page.content,'html.parser')\n",
    "    MainClass=soup.find('ul', class_='nav nav-pills mb-2 justify-content-around justify-content-md-start col-xxl-10 offset-xxl-1 col-md-12 offset-md-0')\n",
    "    ref=[]\n",
    "    data=MainClass.find('a')\n",
    "    technicalDataPage='https://www.ret.co.il'+data.get('href')\n",
    "    return technicalDataPage\n",
    "\n",
    "def getRetData(url):\n",
    "    technicalDataPage=getUrl(url)\n",
    "    page = requests.get(technicalDataPage, headers = getFakeUser())\n",
    "    soup= BeautifulSoup(page.content,'html.parser')\n",
    "    product=soup.find('div',class_='single-product-tab')\n",
    "    dataLink=product.findAll('ul',class_='list-group list-group-horizontal')\n",
    "    MinMaxP=MinMaxRetPrices(url)\n",
    "    mydata=[MinMaxP[0],MinMaxP[1]]\n",
    "    myheaders=[]\n",
    "    for alldata in dataLink:\n",
    "        try:\n",
    "            mydata.append(alldata.find('li',class_='list-group-item col-8 rounded-0 text-600').text.strip())\n",
    "        except:\n",
    "             mydata.append('None')\n",
    "    return mydata\n",
    "\n",
    "def MinMaxRetPrices(url):\n",
    "    page = requests.get(url, headers = getFakeUser())\n",
    "    soup= BeautifulSoup(page.content,'html.parser')\n",
    "    MainClass=soup.find('div',class_='')\n",
    "    MainClass=soup.find('div',class_='card-body p-0 p-sm-3')\n",
    "    price=MainClass.find('div',class_='price')\n",
    "    if(price==None):\n",
    "        return [None,None]\n",
    "    else:\n",
    "        price=price.text.strip()\n",
    "        price=price.replace(',','')\n",
    "        prices=price.split()\n",
    "        MinPrice=prices[0]\n",
    "        MaxPrice=prices[3]\n",
    "        priceArray=MinPrice,MaxPrice\n",
    "        return priceArray\n"
   ]
  },
  {
   "cell_type": "code",
   "execution_count": 3,
   "metadata": {},
   "outputs": [],
   "source": [
    "def getRetToDataFrame(phonesURL):\n",
    "    hrefLinks=[]\n",
    "    allRetData=[]\n",
    "    page = requests.get(phonesURL, headers = getFakeUser())\n",
    "    soup= BeautifulSoup(page.content,'html.parser')\n",
    "    MainClass=soup.findAll('a')\n",
    "    for href in MainClass:\n",
    "        if('/m/' in href.get('href')):\n",
    "            hrefLinks.append('https://www.ret.co.il' + href.get('href'))\n",
    "    for hrefLink in hrefLinks:\n",
    "        allRetData.append(getRetData(hrefLink))\n",
    "    return allRetData\n"
   ]
  },
  {
   "cell_type": "code",
   "execution_count": 4,
   "metadata": {},
   "outputs": [],
   "source": [
    "def mainFunc(page_num_ret):\n",
    "    head=getRetHeaders()\n",
    "    url=f\"https://www.ret.co.il/shop/cellphone?pageindex={page_num_ret}\"\n",
    "    data=getRetToDataFrame(url)\n",
    "    df=pd.DataFrame(data,columns=head)\n",
    "    return df"
   ]
  },
  {
   "cell_type": "code",
   "execution_count": null,
   "metadata": {},
   "outputs": [],
   "source": [
    "df_ret=mainFunc(1)\n",
    "for i in range(2,10):\n",
    "    df_ret=df_ret.append(mainFunc(i))\n",
    "    random_wait()"
   ]
  },
  {
   "cell_type": "code",
   "execution_count": 212,
   "metadata": {},
   "outputs": [],
   "source": [
    "def get_headers():\n",
    "    url=\"https://www.zap.co.il/compmodels.aspx?modelid=1142728\"\n",
    "    page = requests.get(url, headers = getFakeUser())\n",
    "    soup= BeautifulSoup(page.content,'html.parser')\n",
    "    All_headers=['מחיר מינימלי','מחיר מקסימלי']\n",
    "    headers=soup.find_all('div',class_=\"detailsRow\")\n",
    "    for header in headers:\n",
    "        All_headers.append(header.find('div',class_=\"detailsRowTitletxt\").text.strip())\n",
    "    return All_headers\n"
   ]
  },
  {
   "cell_type": "code",
   "execution_count": 213,
   "metadata": {},
   "outputs": [],
   "source": [
    "def get_properites_from_link(url):\n",
    "    All_data=[]\n",
    "    All_headers=[]\n",
    "    page = requests.get(url, headers = getFakeUser())\n",
    "    soup= BeautifulSoup(page.content,'html.parser')\n",
    "    headers=soup.find_all('div',class_=\"detailsRow\")\n",
    "    titles = ['מחיר מינימלי','מחיר מקסימלי']\n",
    "    prices = soup.find('div','PricesTxt').findAll('span') \n",
    "    if len(prices) == 2:\n",
    "        All_data = [ prices[1].text, prices[0].text ]\n",
    "    elif len(prices) == 1: \n",
    "        All_data = [ prices[0].text, prices[0].text ]\n",
    "    else:\n",
    "        All_data = [ None,None ]\n",
    "    for header in headers:\n",
    "        All_headers.append(header.find('div',class_=\"detailsRowTitletxt\").text.strip())\n",
    "        All_data.append(header.find('div',class_=\"detailsRowTxt\").text.strip())\n",
    "    return All_data"
   ]
  },
  {
   "cell_type": "code",
   "execution_count": 214,
   "metadata": {},
   "outputs": [],
   "source": [
    "def get_data_from_zap(phonesURL):\n",
    "    hrefLinks=[]\n",
    "    all_zap_Data=[]\n",
    "    Main_Url=\"https://www.zap.co.il\"\n",
    "    page = requests.get(phonesURL, headers = getFakeUser())\n",
    "    soup= BeautifulSoup(page.content,'html.parser')\n",
    "    links=soup.find_all('div',class_=\"MoreInfo\")\n",
    "    for link in links:\n",
    "        hrefLinks.append(Main_Url+(link.find('a')['href']))\n",
    "    for link in hrefLinks:\n",
    "        all_zap_Data.append(get_properites_from_link(link))\n",
    "    return all_zap_Data\n",
    "    "
   ]
  },
  {
   "cell_type": "code",
   "execution_count": 215,
   "metadata": {},
   "outputs": [],
   "source": [
    "def get_details_from_current_page(page_num_zap):\n",
    "    url=\"https://www.zap.co.il/models.aspx?sog=e-cellphone&pageinfo={page_num_zap}\"\n",
    "    data=get_data_from_zap(url)\n",
    "    df=pd.DataFrame(data,columns=get_headers())\n",
    "    return df\n"
   ]
  },
  {
   "attachments": {},
   "cell_type": "markdown",
   "metadata": {},
   "source": [
    "Changing all the headers in the DataFrame from Hebrew to English"
   ]
  },
  {
   "cell_type": "code",
   "execution_count": 231,
   "metadata": {},
   "outputs": [],
   "source": [
    "\n",
    "def change_CSV_File_Headers(df):\n",
    "    df.rename(columns={\"פוקוס אוטומטי\": \"Autofocus\"}, inplace=True)\n",
    "    df.rename(columns={\"פלאש\": \"Flash\"}, inplace=True)\n",
    "    df.rename(columns={\"מצלמה\": \"Camera\"}, inplace=True)\n",
    "    df.rename(columns={\"מפעיל\": \"operator\"}, inplace=True)\n",
    "    df.rename(columns={\"דור\": \"Generation\"}, inplace=True)\n",
    "    df.rename(columns={\"סוג רשת\": \"Network kind\"}, inplace=True)\n",
    "    df.rename(columns={\"כרטיס SIM\": \"SIM\"},inplace=True)\n",
    "    df.rename(columns={\"רדיו FM\": \"FM radio\"}, inplace=True)\n",
    "    df.rename(columns={\"גובה\": \"height\"}, inplace=True)\n",
    "    df.rename(columns={\"רוחב\": \"width\"}, inplace=True)\n",
    "    df.rename(columns={\"עובי\": \"thickness\"}, inplace=True)\n",
    "    df.rename(columns={\"משקל\": \"wheight\"}, inplace=True)\n",
    "    df.rename(columns={\"קיבולת סוללה\": \"Battery capacity\"}, inplace=True)\n",
    "    df.rename(columns={\"סוללה נשלפת\": \"Removable battery\"}, inplace=True)\n",
    "    df.rename(columns={\"רמקול חיצוני\": \"External speaker\"}, inplace=True)\n",
    "    df.rename(columns={\"חיבור 3.5\": \"connection 3.5\"},inplace=True)\n",
    "    df.rename(columns={\"מחיר מינימלי\": \"Minprice\"}, inplace=True)\n",
    "    df.rename(columns={\"מחיר מקסימלי\": \"Maxprice\"}, inplace=True)\n",
    "    df.rename(columns={\"יצרן\": \"Brand\"}, inplace=True)\n",
    "    df.rename(columns={\"שנת הכרזה\": \"Declaration year\"}, inplace=True)\n",
    "    df.rename(columns={\"מערכת הפעלה\": \"Operating System\"}, inplace=True)\n",
    "    df.rename(columns={\"סדרה\": \"series\"}, inplace=True)\n",
    "    df.rename(columns={\"מבנה המכשיר\": \"device structure\"},inplace=True)\n",
    "    df.rename(columns={\"ממשק הפעלה\": \"operating interfaceo\"}, inplace=True)\n",
    "    df.rename(columns={\"נפח אחסון פנימי\": \"Internal storage volume\"}, inplace=True)\n",
    "    df.rename(columns={\"ערכת שבבים\": \"chipset\"}, inplace=True)\n",
    "    df.rename(columns={\"צבעים\": \"colors\"}, inplace=True)\n",
    "    df.rename(columns={\"טלפון כשר\": \"kosher phone\"}, inplace=True)\n",
    "    df.rename(columns={\"רמת קרינה (SAR)\": \"radiation level\"}, inplace=True)\n",
    "    df.rename(columns={\"טלפון למבוגרים\": \"Phone for adults\"}, inplace=True)\n",
    "    df.rename(columns={\"מאיץ גרפי\": \"Graphics accelerator\"}, inplace=True)\n",
    "    df.rename(columns={\"מהירות מעבד\": \"CPU speed\"},inplace=True)\n",
    "    df.rename(columns={\"עמידות במים\": \"Water resistance\"}, inplace=True)\n",
    "    df.rename(columns={\"קורא טביעת אצבע\": \"Fingerprint reader\"},inplace=True)\n",
    "    df.rename(columns={\"גודל מסך\": \"screen size\"}, inplace=True)\n",
    "    df.rename(columns={\"סוג מסך\": \"screen type\"}, inplace=True)\n",
    "    df.rename(columns={\"קצב רענון\": \"refresh rate\"}, inplace=True)\n",
    "    df.rename(columns={\"צפיפות פיקסלים\": \"Pixel density\"}, inplace=True)\n",
    "    df.rename(columns={\"מפתח צמצם\": \"Aperture key\"}, inplace=True)\n",
    "    df.rename(columns={\"מעבד\": \"Processor\"}, inplace=True)\n",
    "    df.rename(columns={\"רזולוציה\": \"resolution\"},inplace=True)\n",
    "    df.rename(columns={\"כרטיס זיכרון\":\"Memory Card\"}, inplace=True)\n",
    "    df.rename(columns={\"זיכרון RAM\": \"RAM memory\"}, inplace=True)\n",
    "    df.rename(columns={\"וידאו\": \"video\"}, inplace=True)\n",
    "    df.rename(columns={\"קיבולת הסוללה\": \"battery capacity\"}, inplace=True)\n",
    "    df.rename(columns={\"מספר ליבות\": \"number of cores\"}, inplace=True)\n",
    "    df.rename(columns={\"מצלמה קדמית\": \"front camera\"}, inplace=True)\n",
    "    df.rename(columns={\"טעינה אלחוטית\": \"wireless charging\"}, inplace=True)\n",
    "    df.to_csv(\"PhonesDF.csv\",index=False)\n"
   ]
  },
  {
   "cell_type": "code",
   "execution_count": null,
   "metadata": {},
   "outputs": [],
   "source": [
    "df_zap=get_details_from_current_page(1)\n",
    "for i in range(2,21):\n",
    "    df_zap=df_zap.append(get_details_from_current_page(i))\n",
    "    random_wait()"
   ]
  },
  {
   "attachments": {},
   "cell_type": "markdown",
   "metadata": {},
   "source": [
    "Saving the first DataFrame before cleaning"
   ]
  },
  {
   "cell_type": "code",
   "execution_count": 5,
   "metadata": {},
   "outputs": [],
   "source": [
    "def SaveDataFrame(df):\n",
    "    df=df_zap.append(df_ret)\n",
    "    df.to_csv('PhonesDF.csv',header=True)\n",
    "    df=pd.read_csv('PhonesDF.csv')\n",
    "    change_CSV_File_Headers(df)\n",
    "    df=pd.read_csv('PhonesDF.csv')\n",
    "    df\n"
   ]
  },
  {
   "attachments": {},
   "cell_type": "markdown",
   "metadata": {},
   "source": [
    "Function to clean all the Data Frame None price columns"
   ]
  },
  {
   "cell_type": "code",
   "execution_count": 82,
   "metadata": {},
   "outputs": [],
   "source": [
    "def CleanTheDF(df):\n",
    "    df=df.drop_duplicates()\n",
    "    df.dropna(axis=0, how='all')# if all the values are None remove this row\n",
    "    df=df.dropna(subset=['Minprice','Maxprice'],how ='all')\n",
    "    df.drop(columns=['Unnamed: 0'],axis=1,inplace=True)\n",
    "    df.to_csv('SmallPhonesDF.csv')\n",
    "    return df\n",
    "    "
   ]
  },
  {
   "cell_type": "code",
   "execution_count": 123,
   "metadata": {},
   "outputs": [
    {
     "data": {
      "text/plain": [
       "0                    eSIM\n",
       "1          SIM אחד , eSIM\n",
       "2      Dual SIM אופציונלי\n",
       "3      Dual SIM אופציונלי\n",
       "4      Dual SIM אופציונלי\n",
       "              ...        \n",
       "879                   NaN\n",
       "880                   NaN\n",
       "881                   NaN\n",
       "882                   NaN\n",
       "883                   NaN\n",
       "Name: SIM, Length: 429, dtype: object"
      ]
     },
     "execution_count": 123,
     "metadata": {},
     "output_type": "execute_result"
    }
   ],
   "source": [
    "df=pd.read_csv('PhonesDF.csv')\n",
    "Smalldf=CleanTheDF(df)\n",
    "Smalldf[\"SIM\"]"
   ]
  },
  {
   "attachments": {},
   "cell_type": "markdown",
   "metadata": {},
   "source": [
    "Cleaning and converting to Numeric"
   ]
  },
  {
   "cell_type": "code",
   "execution_count": 124,
   "metadata": {},
   "outputs": [],
   "source": [
    "def cleaning_to_numeric(df):\n",
    "    df['radiation level']=pd.to_numeric(df['radiation level'].str.replace('W/kg','').str.strip(),errors='coerce')\n",
    "    df['height']=pd.to_numeric(df['height'].str.replace('מ\"מ','').str.strip(),errors='coerce')\n",
    "    df['Internal storage volume']=pd.to_numeric(df['Internal storage volume'].str.replace('GB','').str.replace('1TB','1000').str.strip(),errors='coerce')\n",
    "    df['RAM memory']=pd.to_numeric(df['RAM memory'].str.replace('GB','').str.strip(),errors='coerce')\n",
    "    df['width']=pd.to_numeric(df['width'].str.replace('מ\"מ','').str.strip(),errors='coerce')\n",
    "    df['thickness']=pd.to_numeric(df['thickness'].str.replace('מ\"מ','').str.strip(),errors='coerce')\n",
    "    df['wheight']=pd.to_numeric(df['wheight'].str.replace('גרם','').str.strip(),errors='coerce')\n",
    "    df['refresh rate']=pd.to_numeric(df['refresh rate'].str.replace('Hz','').str.strip(),errors='coerce')\n",
    "    df['Pixel density']=pd.to_numeric(df['Pixel density'].str.replace('ppi','').str.strip(),errors='coerce')\n",
    "    df['number of cores']=df['number of cores'].apply(lambda x: x.removesuffix(' ליבות') if x else None)\n",
    "    df['screen size']=pd.to_numeric(df['screen size'].str.replace('אינטש','').str.strip(),errors='coerce')\n",
    "    df['Network kind']=pd.to_numeric(df['Network kind'].str.replace('G','').str.strip(),errors='coerce')\n",
    "    df['front camera']=pd.to_numeric(df['front camera'].str.replace('מגה פיקסל','').str.strip(),errors='coerce')\n",
    "    df['Flash']=pd.to_numeric(df['Flash'].str.replace('לדים','').str.strip(),errors='coerce')\n",
    "    df['resolution']=df['resolution'].apply(lambda x: x.removesuffix(' פיקסלים'))\n",
    "    df['Camera']=df['Camera'].apply(lambda x: x.removesuffix(' מגה פיקסל') if x else None)\n",
    "    df['Camera']=df['Camera'].apply(lambda x: x.removesuffix(' מגה פיקסלים') if x else None)\n",
    "    df['Camera']=df['Camera'].apply(lambda x: x.removesuffix(' צגה פיקסל') if x else None)\n",
    "    df['Camera']=df['Camera'].apply(lambda x: x.removesuffix(' גה פיקסל') if x else None)\n",
    "    df['Camera']=pd.to_numeric(df['Camera'],errors='coerce')\n",
    "    df['CPU speed']=df['CPU speed'].apply(lambda x: x.split()[0] if x else None)\n",
    "    df['CPU speed']=pd.to_numeric(df['CPU speed'],errors='coerce')\n",
    "    df['battery capacity']=df['battery capacity'].apply(lambda x: x.removesuffix(' mAh') if x else None)\n",
    "    df['battery capacity']=df['battery capacity'].str.replace(',','')\n",
    "    df['Minprice']=pd.to_numeric(df['Minprice'].str.replace(',','').str.strip(),errors='coerce')\n",
    "    df['Maxprice']=pd.to_numeric(df['Maxprice'].str.replace(',','').str.strip(),errors='coerce')\n",
    "    return df\n",
    "\n"
   ]
  },
  {
   "cell_type": "code",
   "execution_count": 165,
   "metadata": {},
   "outputs": [
    {
     "name": "stderr",
     "output_type": "stream",
     "text": [
      "C:\\Users\\david\\AppData\\Local\\Temp\\ipykernel_5112\\2246132248.py:28: SettingWithCopyWarning: \n",
      "A value is trying to be set on a copy of a slice from a DataFrame\n",
      "\n",
      "See the caveats in the documentation: https://pandas.pydata.org/pandas-docs/stable/user_guide/indexing.html#returning-a-view-versus-a-copy\n",
      "  df_WithNone['number of cores'][i]=eval(df_WithNone['number of cores'][i])\n",
      "C:\\Users\\david\\AppData\\Local\\Temp\\ipykernel_5112\\2246132248.py:30: SettingWithCopyWarning: \n",
      "A value is trying to be set on a copy of a slice from a DataFrame\n",
      "\n",
      "See the caveats in the documentation: https://pandas.pydata.org/pandas-docs/stable/user_guide/indexing.html#returning-a-view-versus-a-copy\n",
      "  df_WithNone['number of cores'][i]=None\n",
      "C:\\Users\\david\\AppData\\Local\\Temp\\ipykernel_5112\\2246132248.py:33: SettingWithCopyWarning: \n",
      "A value is trying to be set on a copy of a slice from a DataFrame\n",
      "\n",
      "See the caveats in the documentation: https://pandas.pydata.org/pandas-docs/stable/user_guide/indexing.html#returning-a-view-versus-a-copy\n",
      "  df_WithNone['resolution'][i]=eval(df_WithNone['resolution'][i].replace('x','*'))\n",
      "C:\\Users\\david\\AppData\\Local\\Temp\\ipykernel_5112\\2246132248.py:38: SettingWithCopyWarning: \n",
      "A value is trying to be set on a copy of a slice from a DataFrame\n",
      "\n",
      "See the caveats in the documentation: https://pandas.pydata.org/pandas-docs/stable/user_guide/indexing.html#returning-a-view-versus-a-copy\n",
      "  df_WithNone['resolution'][i]=(int(a[0])*int(b[0]))\n"
     ]
    },
    {
     "data": {
      "text/plain": [
       "0      4446720\n",
       "1      2962440\n",
       "2      3606840\n",
       "3      2592000\n",
       "4      2962440\n",
       "        ...   \n",
       "879    2592000\n",
       "880    2592000\n",
       "881       None\n",
       "882    2592000\n",
       "883    2592000\n",
       "Name: resolution, Length: 429, dtype: object"
      ]
     },
     "execution_count": 165,
     "metadata": {},
     "output_type": "execute_result"
    }
   ],
   "source": [
    "\n",
    "df_WithNone = Smalldf.copy()\n",
    "for col in df_WithNone:\n",
    "    df_WithNone.loc[(df_WithNone[col] == 'לא זמין') |(df_WithNone[col] == 'יעודכן בקרוב'),col]=None\n",
    "    #|(df_WithNone[col] == 'לא רלוונטי') \n",
    "df_WithNone=cleaning_to_numeric(df_WithNone)\n",
    "df_WithNone[\"Autofocus\"] =  np.where(df_WithNone['Autofocus']  == \"כולל\" , 1 , 0)\n",
    "df_WithNone[\"connection 3.5\"] =  np.where(df_WithNone['connection 3.5']  == \"ללא\" , 0 , 1)\n",
    "df_WithNone[\"Dual-SIM\"] =  np.where(df_WithNone['Dual-SIM']  == \"ללא\" , 0 , 1)\n",
    "df_WithNone[\"Memory Card\"] =  np.where(df_WithNone['Memory Card']  == \"ללא\" , 0 , 1)\n",
    "df_WithNone[\"Fingerprint reader\"] =  np.where(df_WithNone['Fingerprint reader']  == \"ללא\" , 0 , 1)\n",
    "df_WithNone[\"WiFi\"] =  np.where(df_WithNone['WiFi']  == \"כולל\" , 1 , 0)\n",
    "df_WithNone[\"IR\"] =  np.where(df_WithNone['IR']  == \"לא כולל\" , 0 , 1)\n",
    "df_WithNone[\"GPS\"] =  np.where(df_WithNone['GPS']  == \"כולל\" , 1 , 0)\n",
    "df_WithNone[\"NFC\"] =  np.where(df_WithNone['NFC']  == \"כולל\" , 1 , 0)\n",
    "df_WithNone['Smartphone'] =  np.where(df_WithNone['Smartphone']  == 'סמארטפון' , 1 , 0)\n",
    "df_WithNone[\"FM radio\"] =  np.where(df_WithNone['FM radio']  == \"ללא רדיו\" , 0 , 1)\n",
    "df_WithNone[\"Removable battery\"] =  np.where(df_WithNone['Removable battery']  == \"לא\" , 0 , 1)\n",
    "df_WithNone[\"wireless charging\"] =  np.where(df_WithNone['wireless charging']  == \"כולל\" , 1 , 0)\n",
    "df_WithNone[\"External speaker\"] =  np.where(df_WithNone['External speaker']  == \"ללא\" , 0 , 1)\n",
    "df_WithNone[\"kosher phone\"] =  np.where(df_WithNone['kosher phone']  == \"טלפון כשר\" , 1, 0)\n",
    "df_WithNone[\"colors\"] = np.where( df_WithNone['colors']!= None, 1, 0)\n",
    "df_WithNone[\"operating interfaceo\"] = np.where( df_WithNone['operating interfaceo']== \"מסך מגע\", 1, 0)\n",
    "\n",
    "for i in df_WithNone.index:\n",
    "    try:\n",
    "        df_WithNone['number of cores'][i]=eval(df_WithNone['number of cores'][i])\n",
    "    except:\n",
    "        df_WithNone['number of cores'][i]=None\n",
    "for i in df_WithNone.index:\n",
    "    try:\n",
    "        df_WithNone['resolution'][i]=eval(df_WithNone['resolution'][i].replace('x','*'))\n",
    "    except: \n",
    "        if df_WithNone['resolution'][i]!= None:\n",
    "            a = df_WithNone['resolution'][i].split('x')\n",
    "            b = a[1].split('\\u200f')\n",
    "            df_WithNone['resolution'][i]=(int(a[0])*int(b[0]))\n",
    "#priblem with number of cores that we cant describe it \n",
    "#problem with resolution\n",
    "\n",
    "# for i in df_WithNone.index:\n",
    "#     if type(df_WithNone['resolution'][i])==str:\n",
    "#        df_WithNone['resolution'][i]=df_WithNone['resolution'][i].replace('x','*')\n",
    "#     if type(df_WithNone['resolution'][i])==None:\n",
    "#         print(i)\n",
    "# df['resolution']=(df['resolution'].replace(\"\\u200f\", \"\"))"
   ]
  },
  {
   "attachments": {},
   "cell_type": "markdown",
   "metadata": {},
   "source": [
    "After using the pd.to_numeric all the values that werent changed got changed into NAN values and we also saw that we good 'None' values as a string insted of None this rows change them back to None"
   ]
  },
  {
   "cell_type": "code",
   "execution_count": 148,
   "metadata": {},
   "outputs": [
    {
     "data": {
      "text/plain": [
       "float"
      ]
     },
     "execution_count": 148,
     "metadata": {},
     "output_type": "execute_result"
    }
   ],
   "source": [
    "df_WithNone = df_WithNone.replace({np.nan:None})\n",
    "df_WithNone=df_WithNone.replace('None', None)\n",
    "df_WithNone['width']=pd.to_numeric(df['width'],errors='coerce')\n",
    "df_WithNone['height']=pd.to_numeric(df['width'],errors='coerce')\n",
    "df_WithNone['wheight']=pd.to_numeric(df['width'],errors='coerce')\n",
    "df_WithNone['Declaration year']=pd.to_numeric(df['Declaration year'],errors='coerce')\n",
    "df_WithNone['battery capacity']=pd.to_numeric(df['battery capacity'],errors='coerce')\n",
    "type(df_WithNone['CPU speed'][9])"
   ]
  },
  {
   "cell_type": "code",
   "execution_count": 149,
   "metadata": {},
   "outputs": [
    {
     "data": {
      "text/plain": [
       "['Brand',\n",
       " 'Operating System',\n",
       " 'device structure',\n",
       " 'series',\n",
       " 'radiation level',\n",
       " 'Phone for adults',\n",
       " 'Internal storage volume',\n",
       " 'chipset',\n",
       " 'Processor',\n",
       " 'number of cores',\n",
       " 'CPU speed',\n",
       " 'Graphics accelerator',\n",
       " 'RAM memory',\n",
       " 'Water resistance',\n",
       " 'screen size',\n",
       " 'screen type',\n",
       " 'resolution',\n",
       " 'Pixel density',\n",
       " 'refresh rate',\n",
       " 'SIM',\n",
       " 'Network kind',\n",
       " 'Generation',\n",
       " 'operator',\n",
       " 'Bluetooth',\n",
       " 'Camera',\n",
       " 'Flash',\n",
       " 'Aperture key',\n",
       " 'video',\n",
       " 'front camera',\n",
       " 'thickness']"
      ]
     },
     "execution_count": 149,
     "metadata": {},
     "output_type": "execute_result"
    }
   ],
   "source": [
    "list_describe=df_WithNone.describe().columns\n",
    "all_cols=df_WithNone.columns\n",
    "listNotInDescribe=[]\n",
    "for col in all_cols:\n",
    "    if(col not in list_describe):\n",
    "        listNotInDescribe.append(col)\n",
    "listNotInDescribe\n"
   ]
  },
  {
   "attachments": {},
   "cell_type": "markdown",
   "metadata": {},
   "source": [
    "its look that we have a lot of cols that not in our describe so we will want to try to fillna"
   ]
  },
  {
   "cell_type": "code",
   "execution_count": 96,
   "metadata": {},
   "outputs": [
    {
     "name": "stdout",
     "output_type": "stream",
     "text": [
      "<class 'pandas.core.frame.DataFrame'>\n",
      "Int64Index: 429 entries, 0 to 883\n",
      "Data columns (total 54 columns):\n",
      " #   Column                   Non-Null Count  Dtype \n",
      "---  ------                   --------------  ----- \n",
      " 0   Minprice                 429 non-null    int64 \n",
      " 1   Maxprice                 429 non-null    int64 \n",
      " 2   Brand                    414 non-null    object\n",
      " 3   Operating System         389 non-null    object\n",
      " 4   Declaration year         310 non-null    object\n",
      " 5   device structure         412 non-null    object\n",
      " 6   series                   250 non-null    object\n",
      " 7   Smartphone               414 non-null    object\n",
      " 8   radiation level          127 non-null    object\n",
      " 9   operating interfaceo     413 non-null    object\n",
      " 10  kosher phone             429 non-null    int32 \n",
      " 11  colors                   429 non-null    int32 \n",
      " 12  Phone for adults         29 non-null     object\n",
      " 13  Internal storage volume  388 non-null    object\n",
      " 14  chipset                  300 non-null    object\n",
      " 15  Processor                262 non-null    object\n",
      " 16  number of cores          0 non-null      object\n",
      " 17  CPU speed                273 non-null    object\n",
      " 18  Graphics accelerator     295 non-null    object\n",
      " 19  RAM memory               376 non-null    object\n",
      " 20  Memory Card              429 non-null    int32 \n",
      " 21  Water resistance         306 non-null    object\n",
      " 22  Fingerprint reader       429 non-null    int32 \n",
      " 23  screen size              398 non-null    object\n",
      " 24  screen type              381 non-null    object\n",
      " 25  resolution               0 non-null      object\n",
      " 26  Pixel density            391 non-null    object\n",
      " 27  refresh rate             181 non-null    object\n",
      " 28  SIM                      28 non-null     object\n",
      " 29  Network kind             62 non-null     object\n",
      " 30  Generation               391 non-null    object\n",
      " 31  operator                 26 non-null     object\n",
      " 32  WiFi                     429 non-null    int32 \n",
      " 33  Bluetooth                396 non-null    object\n",
      " 34  IR                       429 non-null    int32 \n",
      " 35  GPS                      429 non-null    int32 \n",
      " 36  NFC                      429 non-null    int32 \n",
      " 37  Camera                   55 non-null     object\n",
      " 38  Flash                    42 non-null     object\n",
      " 39  Autofocus                429 non-null    int32 \n",
      " 40  Aperture key             347 non-null    object\n",
      " 41  video                    394 non-null    object\n",
      " 42  front camera             29 non-null     object\n",
      " 43  connection 3.5           429 non-null    int32 \n",
      " 44  External speaker         429 non-null    int32 \n",
      " 45  FM radio                 429 non-null    int32 \n",
      " 46  height                   378 non-null    object\n",
      " 47  width                    392 non-null    object\n",
      " 48  thickness                398 non-null    object\n",
      " 49  wheight                  398 non-null    object\n",
      " 50  battery capacity         10 non-null     object\n",
      " 51  Removable battery        429 non-null    int32 \n",
      " 52  wireless charging        429 non-null    int32 \n",
      " 53  Dual-SIM                 429 non-null    int32 \n",
      "dtypes: int32(15), int64(2), object(37)\n",
      "memory usage: 175.4+ KB\n"
     ]
    }
   ],
   "source": [
    "df_WithNone.info()\n"
   ]
  },
  {
   "cell_type": "markdown",
   "metadata": {},
   "source": []
  },
  {
   "cell_type": "code",
   "execution_count": 112,
   "metadata": {},
   "outputs": [
    {
     "data": {
      "text/plain": [
       "0      1700.0\n",
       "1        None\n",
       "2        None\n",
       "3      1800.0\n",
       "4      1820.0\n",
       "        ...  \n",
       "879    1900.0\n",
       "880    1800.0\n",
       "881      None\n",
       "882    2000.0\n",
       "883    2000.0\n",
       "Name: CPU speed, Length: 429, dtype: object"
      ]
     },
     "execution_count": 112,
     "metadata": {},
     "output_type": "execute_result"
    }
   ],
   "source": [
    "df_WithNone['CPU speed']"
   ]
  },
  {
   "attachments": {},
   "cell_type": "markdown",
   "metadata": {},
   "source": [
    "we will want to drop the unnecessary cols "
   ]
  },
  {
   "cell_type": "code",
   "execution_count": 134,
   "metadata": {},
   "outputs": [],
   "source": [
    "df_WithNone=df_WithNone.drop(['radiation level','Phone for adults'\n",
    ",'wireless charging','Aperture key','device structure','Declaration year','SIM'],axis=1)"
   ]
  },
  {
   "cell_type": "code",
   "execution_count": 135,
   "metadata": {},
   "outputs": [
    {
     "name": "stdout",
     "output_type": "stream",
     "text": [
      "<class 'pandas.core.frame.DataFrame'>\n",
      "Int64Index: 429 entries, 0 to 883\n",
      "Data columns (total 47 columns):\n",
      " #   Column                   Non-Null Count  Dtype  \n",
      "---  ------                   --------------  -----  \n",
      " 0   Minprice                 429 non-null    int64  \n",
      " 1   Maxprice                 429 non-null    int64  \n",
      " 2   Brand                    429 non-null    object \n",
      " 3   Operating System         429 non-null    object \n",
      " 4   series                   429 non-null    object \n",
      " 5   Smartphone               429 non-null    int32  \n",
      " 6   operating interfaceo     429 non-null    int32  \n",
      " 7   kosher phone             429 non-null    int32  \n",
      " 8   colors                   429 non-null    int32  \n",
      " 9   Internal storage volume  388 non-null    float64\n",
      " 10  chipset                  428 non-null    object \n",
      " 11  Processor                419 non-null    object \n",
      " 12  number of cores          307 non-null    object \n",
      " 13  CPU speed                273 non-null    float64\n",
      " 14  Graphics accelerator     425 non-null    object \n",
      " 15  RAM memory               376 non-null    float64\n",
      " 16  Memory Card              429 non-null    int32  \n",
      " 17  Water resistance         427 non-null    object \n",
      " 18  Fingerprint reader       429 non-null    int32  \n",
      " 19  screen size              398 non-null    float64\n",
      " 20  screen type              429 non-null    object \n",
      " 21  resolution               429 non-null    object \n",
      " 22  Pixel density            391 non-null    float64\n",
      " 23  refresh rate             181 non-null    float64\n",
      " 24  Network kind             62 non-null     float64\n",
      " 25  Generation               429 non-null    object \n",
      " 26  operator                 426 non-null    object \n",
      " 27  WiFi                     429 non-null    int32  \n",
      " 28  Bluetooth                429 non-null    object \n",
      " 29  IR                       429 non-null    int32  \n",
      " 30  GPS                      429 non-null    int32  \n",
      " 31  NFC                      429 non-null    int32  \n",
      " 32  Camera                   55 non-null     float64\n",
      " 33  Flash                    42 non-null     float64\n",
      " 34  Autofocus                429 non-null    int32  \n",
      " 35  video                    429 non-null    object \n",
      " 36  front camera             29 non-null     float64\n",
      " 37  connection 3.5           429 non-null    int32  \n",
      " 38  External speaker         429 non-null    int32  \n",
      " 39  FM radio                 429 non-null    int32  \n",
      " 40  height                   378 non-null    float64\n",
      " 41  width                    392 non-null    float64\n",
      " 42  thickness                398 non-null    float64\n",
      " 43  wheight                  398 non-null    float64\n",
      " 44  battery capacity         420 non-null    object \n",
      " 45  Removable battery        429 non-null    int32  \n",
      " 46  Dual-SIM                 429 non-null    int32  \n",
      "dtypes: float64(14), int32(16), int64(2), object(15)\n",
      "memory usage: 150.2+ KB\n"
     ]
    }
   ],
   "source": [
    "df_WithNone.info()"
   ]
  },
  {
   "attachments": {},
   "cell_type": "markdown",
   "metadata": {},
   "source": [
    "now we want to fillna some nan like battery"
   ]
  },
  {
   "cell_type": "code",
   "execution_count": 150,
   "metadata": {},
   "outputs": [
    {
     "name": "stdout",
     "output_type": "stream",
     "text": [
      "108\n",
      "7850\n"
     ]
    },
    {
     "data": {
      "image/png": "[encoded data removed]",
      "text/plain": [
       "<Figure size 640x480 with 1 Axes>"
      ]
     },
     "metadata": {},
     "output_type": "display_data"
    }
   ],
   "source": [
    "print(df_WithNone[\"Minprice\"].min())\n",
    "print(df_WithNone['Minprice'].max())\n",
    "\n",
    "sns.histplot(df_WithNone['Minprice'])\n",
    "plt.show()"
   ]
  },
  {
   "attachments": {},
   "cell_type": "markdown",
   "metadata": {},
   "source": [
    "its like we will know which what to fill the nan vals"
   ]
  },
  {
   "cell_type": "code",
   "execution_count": 104,
   "metadata": {},
   "outputs": [
    {
     "data": {
      "image/png": "[encoded data removed]",
      "text/plain": [
       "<Figure size 640x480 with 1 Axes>"
      ]
     },
     "metadata": {},
     "output_type": "display_data"
    }
   ],
   "source": [
    "most_freq = df_WithNone['battery capacity'].mode()[0]\n",
    "df_WithNone['battery capacity'] = df_WithNone['battery capacity'].fillna(most_freq)\n",
    "sns.histplot(df_WithNone['battery capacity'])\n",
    "plt.show()"
   ]
  },
  {
   "attachments": {},
   "cell_type": "markdown",
   "metadata": {},
   "source": [
    "We decided to combain the MinPrice and MaxPrice into an avarage price."
   ]
  },
  {
   "cell_type": "code",
   "execution_count": 10,
   "metadata": {},
   "outputs": [
    {
     "data": {
      "text/html": [
       "<div>\n",
       "<style scoped>\n",
       "    .dataframe tbody tr th:only-of-type {\n",
       "        vertical-align: middle;\n",
       "    }\n",
       "\n",
       "    .dataframe tbody tr th {\n",
       "        vertical-align: top;\n",
       "    }\n",
       "\n",
       "    .dataframe thead th {\n",
       "        text-align: right;\n",
       "    }\n",
       "</style>\n",
       "<table border=\"1\" class=\"dataframe\">\n",
       "  <thead>\n",
       "    <tr style=\"text-align: right;\">\n",
       "      <th></th>\n",
       "      <th>kosher phone</th>\n",
       "      <th>colors</th>\n",
       "      <th>Memory Card</th>\n",
       "      <th>Fingerprint reader</th>\n",
       "      <th>WiFi</th>\n",
       "      <th>IR</th>\n",
       "      <th>GPS</th>\n",
       "      <th>NFC</th>\n",
       "      <th>Autofocus</th>\n",
       "      <th>connection 3.5</th>\n",
       "      <th>External speaker</th>\n",
       "      <th>FM radio</th>\n",
       "      <th>Removable battery</th>\n",
       "      <th>wireless charging</th>\n",
       "      <th>Dual-SIM</th>\n",
       "      <th>Price</th>\n",
       "    </tr>\n",
       "  </thead>\n",
       "  <tbody>\n",
       "    <tr>\n",
       "      <th>count</th>\n",
       "      <td>429.000000</td>\n",
       "      <td>429.0</td>\n",
       "      <td>429.000000</td>\n",
       "      <td>429.000000</td>\n",
       "      <td>429.000000</td>\n",
       "      <td>429.000000</td>\n",
       "      <td>429.000000</td>\n",
       "      <td>429.000000</td>\n",
       "      <td>429.000000</td>\n",
       "      <td>429.000000</td>\n",
       "      <td>429.000000</td>\n",
       "      <td>429.000000</td>\n",
       "      <td>429.000000</td>\n",
       "      <td>429.000000</td>\n",
       "      <td>429.000000</td>\n",
       "      <td>429.000000</td>\n",
       "    </tr>\n",
       "    <tr>\n",
       "      <th>mean</th>\n",
       "      <td>0.020979</td>\n",
       "      <td>1.0</td>\n",
       "      <td>0.568765</td>\n",
       "      <td>0.867133</td>\n",
       "      <td>0.916084</td>\n",
       "      <td>0.571096</td>\n",
       "      <td>0.909091</td>\n",
       "      <td>0.587413</td>\n",
       "      <td>0.482517</td>\n",
       "      <td>0.510490</td>\n",
       "      <td>0.995338</td>\n",
       "      <td>0.426573</td>\n",
       "      <td>0.104895</td>\n",
       "      <td>0.370629</td>\n",
       "      <td>0.752914</td>\n",
       "      <td>1894.544289</td>\n",
       "    </tr>\n",
       "    <tr>\n",
       "      <th>std</th>\n",
       "      <td>0.143481</td>\n",
       "      <td>0.0</td>\n",
       "      <td>0.495827</td>\n",
       "      <td>0.339827</td>\n",
       "      <td>0.277586</td>\n",
       "      <td>0.495497</td>\n",
       "      <td>0.287815</td>\n",
       "      <td>0.492875</td>\n",
       "      <td>0.500278</td>\n",
       "      <td>0.500474</td>\n",
       "      <td>0.068199</td>\n",
       "      <td>0.495157</td>\n",
       "      <td>0.306776</td>\n",
       "      <td>0.483537</td>\n",
       "      <td>0.431821</td>\n",
       "      <td>1399.096567</td>\n",
       "    </tr>\n",
       "    <tr>\n",
       "      <th>min</th>\n",
       "      <td>0.000000</td>\n",
       "      <td>1.0</td>\n",
       "      <td>0.000000</td>\n",
       "      <td>0.000000</td>\n",
       "      <td>0.000000</td>\n",
       "      <td>0.000000</td>\n",
       "      <td>0.000000</td>\n",
       "      <td>0.000000</td>\n",
       "      <td>0.000000</td>\n",
       "      <td>0.000000</td>\n",
       "      <td>0.000000</td>\n",
       "      <td>0.000000</td>\n",
       "      <td>0.000000</td>\n",
       "      <td>0.000000</td>\n",
       "      <td>0.000000</td>\n",
       "      <td>108.000000</td>\n",
       "    </tr>\n",
       "    <tr>\n",
       "      <th>25%</th>\n",
       "      <td>0.000000</td>\n",
       "      <td>1.0</td>\n",
       "      <td>0.000000</td>\n",
       "      <td>1.000000</td>\n",
       "      <td>1.000000</td>\n",
       "      <td>0.000000</td>\n",
       "      <td>1.000000</td>\n",
       "      <td>0.000000</td>\n",
       "      <td>0.000000</td>\n",
       "      <td>0.000000</td>\n",
       "      <td>1.000000</td>\n",
       "      <td>0.000000</td>\n",
       "      <td>0.000000</td>\n",
       "      <td>0.000000</td>\n",
       "      <td>1.000000</td>\n",
       "      <td>849.500000</td>\n",
       "    </tr>\n",
       "    <tr>\n",
       "      <th>50%</th>\n",
       "      <td>0.000000</td>\n",
       "      <td>1.0</td>\n",
       "      <td>1.000000</td>\n",
       "      <td>1.000000</td>\n",
       "      <td>1.000000</td>\n",
       "      <td>1.000000</td>\n",
       "      <td>1.000000</td>\n",
       "      <td>1.000000</td>\n",
       "      <td>0.000000</td>\n",
       "      <td>1.000000</td>\n",
       "      <td>1.000000</td>\n",
       "      <td>0.000000</td>\n",
       "      <td>0.000000</td>\n",
       "      <td>0.000000</td>\n",
       "      <td>1.000000</td>\n",
       "      <td>1494.000000</td>\n",
       "    </tr>\n",
       "    <tr>\n",
       "      <th>75%</th>\n",
       "      <td>0.000000</td>\n",
       "      <td>1.0</td>\n",
       "      <td>1.000000</td>\n",
       "      <td>1.000000</td>\n",
       "      <td>1.000000</td>\n",
       "      <td>1.000000</td>\n",
       "      <td>1.000000</td>\n",
       "      <td>1.000000</td>\n",
       "      <td>1.000000</td>\n",
       "      <td>1.000000</td>\n",
       "      <td>1.000000</td>\n",
       "      <td>1.000000</td>\n",
       "      <td>0.000000</td>\n",
       "      <td>1.000000</td>\n",
       "      <td>1.000000</td>\n",
       "      <td>2563.000000</td>\n",
       "    </tr>\n",
       "    <tr>\n",
       "      <th>max</th>\n",
       "      <td>1.000000</td>\n",
       "      <td>1.0</td>\n",
       "      <td>1.000000</td>\n",
       "      <td>1.000000</td>\n",
       "      <td>1.000000</td>\n",
       "      <td>1.000000</td>\n",
       "      <td>1.000000</td>\n",
       "      <td>1.000000</td>\n",
       "      <td>1.000000</td>\n",
       "      <td>1.000000</td>\n",
       "      <td>1.000000</td>\n",
       "      <td>1.000000</td>\n",
       "      <td>1.000000</td>\n",
       "      <td>1.000000</td>\n",
       "      <td>1.000000</td>\n",
       "      <td>7850.000000</td>\n",
       "    </tr>\n",
       "  </tbody>\n",
       "</table>\n",
       "</div>"
      ],
      "text/plain": [
       "       kosher phone  colors  Memory Card  Fingerprint reader        WiFi  \\\n",
       "count    429.000000   429.0   429.000000          429.000000  429.000000   \n",
       "mean       0.020979     1.0     0.568765            0.867133    0.916084   \n",
       "std        0.143481     0.0     0.495827            0.339827    0.277586   \n",
       "min        0.000000     1.0     0.000000            0.000000    0.000000   \n",
       "25%        0.000000     1.0     0.000000            1.000000    1.000000   \n",
       "50%        0.000000     1.0     1.000000            1.000000    1.000000   \n",
       "75%        0.000000     1.0     1.000000            1.000000    1.000000   \n",
       "max        1.000000     1.0     1.000000            1.000000    1.000000   \n",
       "\n",
       "               IR         GPS         NFC   Autofocus  connection 3.5  \\\n",
       "count  429.000000  429.000000  429.000000  429.000000      429.000000   \n",
       "mean     0.571096    0.909091    0.587413    0.482517        0.510490   \n",
       "std      0.495497    0.287815    0.492875    0.500278        0.500474   \n",
       "min      0.000000    0.000000    0.000000    0.000000        0.000000   \n",
       "25%      0.000000    1.000000    0.000000    0.000000        0.000000   \n",
       "50%      1.000000    1.000000    1.000000    0.000000        1.000000   \n",
       "75%      1.000000    1.000000    1.000000    1.000000        1.000000   \n",
       "max      1.000000    1.000000    1.000000    1.000000        1.000000   \n",
       "\n",
       "       External speaker    FM radio  Removable battery  wireless charging  \\\n",
       "count        429.000000  429.000000         429.000000         429.000000   \n",
       "mean           0.995338    0.426573           0.104895           0.370629   \n",
       "std            0.068199    0.495157           0.306776           0.483537   \n",
       "min            0.000000    0.000000           0.000000           0.000000   \n",
       "25%            1.000000    0.000000           0.000000           0.000000   \n",
       "50%            1.000000    0.000000           0.000000           0.000000   \n",
       "75%            1.000000    1.000000           0.000000           1.000000   \n",
       "max            1.000000    1.000000           1.000000           1.000000   \n",
       "\n",
       "         Dual-SIM        Price  \n",
       "count  429.000000   429.000000  \n",
       "mean     0.752914  1894.544289  \n",
       "std      0.431821  1399.096567  \n",
       "min      0.000000   108.000000  \n",
       "25%      1.000000   849.500000  \n",
       "50%      1.000000  1494.000000  \n",
       "75%      1.000000  2563.000000  \n",
       "max      1.000000  7850.000000  "
      ]
     },
     "execution_count": 10,
     "metadata": {},
     "output_type": "execute_result"
    }
   ],
   "source": [
    "dfUnionPrice=df_WithNone.copy()\n",
    "dfUnionPrice['Price']=(dfUnionPrice['Minprice'] + dfUnionPrice['Maxprice'])/2\n",
    "dfUnionPrice=dfUnionPrice.drop(['Minprice','Maxprice'],axis=1)\n",
    "dfUnionPrice.describe()"
   ]
  }
 ],
 "metadata": {
  "kernelspec": {
   "display_name": "base",
   "language": "python",
   "name": "python3"
  },
  "language_info": {
   "codemirror_mode": {
    "name": "ipython",
    "version": 3
   },
   "file_extension": ".py",
   "mimetype": "text/x-python",
   "name": "python",
   "nbconvert_exporter": "python",
   "pygments_lexer": "ipython3",
   "version": "3.9.13"
  },
  "orig_nbformat": 4,
  "vscode": {
   "interpreter": {
    "hash": "ad2bdc8ecc057115af97d19610ffacc2b4e99fae6737bb82f5d7fb13d2f2c186"
   }
  }
 },
 "nbformat": 4,
 "nbformat_minor": 2
}
